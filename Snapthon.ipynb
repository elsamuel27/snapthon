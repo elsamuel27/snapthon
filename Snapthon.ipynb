{
  "cells": [
    {
      "cell_type": "markdown",
      "metadata": {
        "id": "8PEmcf31s5LT"
      },
      "source": [
        "[![Open In Colab](https://colab.research.google.com/assets/colab-badge.svg)](https://colab.research.google.com/github/elsamuel27/snapthon/blob/main/Snapthon.ipynb)"
      ]
    },
    {
      "cell_type": "code",
      "source": [
        "#@title Input\n",
        "\n",
        "mult = \"Video\" #@param [\"Video\", \"Playlist\"]\n",
        "link = \"\" #@param {type: \"string\"}\n",
        "ft = \"Video\" #@param [\"Video\", \"Audio\"]\n",
        "format = \"mp4\" #@param [\"mp4\", \"mp3\"] {allow-input: true}\n",
        "route = \"/content/Descargados\""
      ],
      "metadata": {
        "cellView": "form",
        "id": "NJ6e707pNFNw"
      },
      "execution_count": null,
      "outputs": []
    },
    {
      "cell_type": "markdown",
      "source": [
        "# Preparar entorno"
      ],
      "metadata": {
        "id": "vBjkaLcUtSrv"
      }
    },
    {
      "cell_type": "code",
      "source": [
        "#@title Actualizar pip\n",
        "\n",
        "!pip install -U pip"
      ],
      "metadata": {
        "cellView": "form",
        "id": "EkiFvP-ktWM1"
      },
      "execution_count": null,
      "outputs": []
    },
    {
      "cell_type": "code",
      "execution_count": null,
      "metadata": {
        "id": "aNAx1X8rUvAW",
        "cellView": "form"
      },
      "outputs": [],
      "source": [
        "#@title Instalaciones\n",
        "\n",
        "!pip install pytube\n",
        "!sudo apt install zip -y"
      ]
    },
    {
      "cell_type": "code",
      "execution_count": null,
      "metadata": {
        "id": "9i6RxfX-APC1",
        "cellView": "form"
      },
      "outputs": [],
      "source": [
        "#@title Importaciones\n",
        "\n",
        "from pytube import YouTube\n",
        "from pytube import Playlist\n",
        "from google.colab import files"
      ]
    },
    {
      "cell_type": "markdown",
      "metadata": {
        "id": "iLQ3hpLzKf3Q"
      },
      "source": [
        "# Descargas"
      ]
    },
    {
      "cell_type": "code",
      "source": [
        "#@title En el entorno\n",
        "\n",
        "if mult == \"Video\":\n",
        "    yt = YouTube(link)\n",
        "    title = yt.title.replace(\"\\\"\", \"\")\n",
        "    title = title.replace(\"/\", \"-\")\n",
        "    file = f\"{title}.{format}\"\n",
        "\n",
        "    if ft == \"Video\":\n",
        "        yd = yt.streams.get_highest_resolution()\n",
        "\n",
        "        yd.download(route, file)\n",
        "        print(\"¡Vídeo descargado! Hasta luego :D\")\n",
        "    elif ft == \"Audio\":\n",
        "        yd = yt.streams.get_audio_only()\n",
        "\n",
        "        yd.download(route, file)\n",
        "        print(\"¡Vídeo descargado! Hasta luego :D\")\n",
        "elif mult == \"Playlist\":\n",
        "    pl = Playlist(link)\n",
        "    if ft == \"Video\":\n",
        "        for video in pl.videos:\n",
        "            title = video.title.replace(\"\\\"\", \"\")\n",
        "            title = title.replace(\"/\", \"-\")\n",
        "            file = f\"{title}.{format}\"\n",
        "            try:\n",
        "                yd = video.streams.get_highest_resolution()\n",
        "                yd.download(route, file)\n",
        "                print(\"+1 vídeo en la carpeta\")\n",
        "            except:\n",
        "                print(\"No se puede acceder a los datos de este vídeo. Saltamos al siguiente\")\n",
        "    elif ft == \"Audio\":\n",
        "        for video in pl.videos:\n",
        "            title = video.title.replace(\"\\\"\", \"\")\n",
        "            title = title.replace(\"/\", \"-\")\n",
        "            try:\n",
        "                yd = video.streams.get_audio_only()\n",
        "                yd.download(route, f\"{title}.{format}\")\n",
        "                print(\"+1 vídeo en la carpeta\")\n",
        "            except:\n",
        "                print(\"No se puede acceder a los datos de este vídeo. Saltamos al siguiente\")"
      ],
      "metadata": {
        "cellView": "form",
        "id": "gS23I5KUv040"
      },
      "execution_count": null,
      "outputs": []
    },
    {
      "cell_type": "code",
      "execution_count": null,
      "metadata": {
        "id": "Rx9XVmlgZKJ4",
        "cellView": "form"
      },
      "outputs": [],
      "source": [
        "#@title Localmente\n",
        "\n",
        "!zip -r /content/Descargados.zip Descargados\n",
        "!rm -r Descargados\n",
        "\n",
        "files.download(\"/content/Descargados.zip\")"
      ]
    }
  ],
  "metadata": {
    "colab": {
      "provenance": [],
      "collapsed_sections": [
        "vBjkaLcUtSrv"
      ]
    },
    "kernelspec": {
      "display_name": "Python 3",
      "name": "python3"
    },
    "language_info": {
      "name": "python"
    }
  },
  "nbformat": 4,
  "nbformat_minor": 0
}