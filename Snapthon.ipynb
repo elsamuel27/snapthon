{
  "cells": [
    {
      "cell_type": "markdown",
      "metadata": {
        "id": "8PEmcf31s5LT"
      },
      "source": [
        "[![Open In Colab](https://colab.research.google.com/assets/colab-badge.svg)](https://colab.research.google.com/github/elsamuel27/snapthon/blob/main/Snapthon.ipynb)"
      ]
    },
    {
      "cell_type": "markdown",
      "source": [
        "# Preparar entorno"
      ],
      "metadata": {
        "id": "vBjkaLcUtSrv"
      }
    },
    {
      "cell_type": "code",
      "source": [
        "#@title Declarar variables\n",
        "\n",
        "print(\"1 para vídeo, 2 para playlist, 3 para varios vídeos\")\n",
        "mult = input()\n",
        "if mult == \"3\":\n",
        "  URLs = []\n",
        "  i = 0\n",
        "  o = int(input(\"¿Cuántos son?: \"))\n",
        "  while i < o:\n",
        "    link = input(\"Enlace: \")\n",
        "    URLs.append(link)\n",
        "    i += 1\n",
        "else:\n",
        "  link = input(\"Pega su enlace: \")\n",
        "\n",
        "ft = input(\"1 para vídeo, 2 para audio: \")\n",
        "format = input(\"¿Usar formatos mp4 y mp3? [s/n]: \")\n",
        "if format == \"s\":\n",
        "    if ft == \"1\":\n",
        "        format2 = \"mp4\"\n",
        "    elif ft == \"2\":\n",
        "        format2 = \"mp3\"\n",
        "elif format == \"n\":\n",
        "    format2 = input(\"Entonces introduce el formato que quieras, en minúscula y sin punto: \")\n",
        "\n",
        "route = \"/content/Descargados\""
      ],
      "metadata": {
        "id": "W3sR6k-Aumv0"
      },
      "execution_count": null,
      "outputs": []
    },
    {
      "cell_type": "code",
      "source": [
        "#@title Actualizar pip\n",
        "\n",
        "!pip install -U pip"
      ],
      "metadata": {
        "cellView": "form",
        "id": "EkiFvP-ktWM1"
      },
      "execution_count": null,
      "outputs": []
    },
    {
      "cell_type": "code",
      "execution_count": null,
      "metadata": {
        "id": "aNAx1X8rUvAW"
      },
      "outputs": [],
      "source": [
        "#@title Instalar PyTube\n",
        "\n",
        "!pip install pytube"
      ]
    },
    {
      "cell_type": "code",
      "execution_count": null,
      "metadata": {
        "id": "9i6RxfX-APC1",
        "cellView": "form"
      },
      "outputs": [],
      "source": [
        "#@title Importaciones\n",
        "\n",
        "from pytube import YouTube\n",
        "from pytube import Playlist\n",
        "from google.colab import files\n",
        "import os"
      ]
    },
    {
      "cell_type": "markdown",
      "metadata": {
        "id": "iLQ3hpLzKf3Q"
      },
      "source": [
        "# Descargas"
      ]
    },
    {
      "cell_type": "code",
      "source": [
        "#@title En el entorno\n",
        "\n",
        "if mult == \"1\":\n",
        "    yt = YouTube(link)\n",
        "    title = yt.title.replace(\"\\\"\", \"\")\n",
        "    title = title.replace(\"/\", \"-\")\n",
        "    file = f\"{title}.{format2}\"\n",
        "\n",
        "    if ft == \"1\":\n",
        "        yd = yt.streams.get_highest_resolution()\n",
        "\n",
        "        yd.download(route, file)\n",
        "        print(\"¡Vídeo descargado! Hasta luego :D\")\n",
        "    elif ft == \"2\":\n",
        "        yd = yt.streams.get_audio_only()\n",
        "\n",
        "        yd.download(route, file)\n",
        "        print(\"¡Vídeo descargado! Hasta luego :D\")\n",
        "elif mult == \"2\":\n",
        "    pl = Playlist(link)\n",
        "    if ft == \"1\":\n",
        "        for video in pl.videos:\n",
        "            title = video.title.replace(\"\\\"\", \"\")\n",
        "            title = title.replace(\"/\", \"-\")\n",
        "            file = f\"{title}.{format2}\"\n",
        "            try:\n",
        "                yd = video.streams.get_highest_resolution()\n",
        "                yd.download(route, file)\n",
        "                print(\"+1 vídeo en la carpeta\")\n",
        "            except:\n",
        "                print(\"No se puede acceder a los datos de este vídeo. Saltamos al siguiente\")\n",
        "    elif ft == \"2\":\n",
        "        for video in pl.videos:\n",
        "            title = video.title.replace(\"\\\"\", \"\")\n",
        "            title = title.replace(\"/\", \"-\")\n",
        "            try:\n",
        "                yd = video.streams.get_audio_only()\n",
        "                yd.download(route, f\"{title}.{format2}\")\n",
        "                print(\"+1 vídeo en la carpeta\")\n",
        "            except:\n",
        "                print(\"No se puede acceder a los datos de este vídeo. Saltamos al siguiente\")\n",
        "elif mult == \"3\":\n",
        "  for video in URLs:\n",
        "    yt = YouTube(video)\n",
        "    title = yt.title.replace(\"\\\"\", \"\")\n",
        "    title = title.replace(\"/\", \"-\")\n",
        "    file = f\"{title}.{format2}\"\n",
        "    if ft == \"1\":\n",
        "      try:\n",
        "        yd = yt.streams.get_highest_resolution()\n",
        "        yd.download(route, file)\n",
        "        print(\"+1 vídeo en la carpeta\")\n",
        "      except:\n",
        "        print(\"No se puede acceder a los datos de este vídeo. Saltamos al siguiente\")\n",
        "    elif ft == \"2\":\n",
        "      try:\n",
        "        yd = yt.streams.get_audio_only()\n",
        "        yd.download(route, file)\n",
        "        print(\"+1 vídeo en la carpeta\")\n",
        "      except:\n",
        "        print(\"No se puede acceder a los datos de este vídeo. Saltamos al siguiente\")"
      ],
      "metadata": {
        "cellView": "form",
        "id": "gS23I5KUv040"
      },
      "execution_count": null,
      "outputs": []
    },
    {
      "cell_type": "code",
      "execution_count": null,
      "metadata": {
        "id": "Rx9XVmlgZKJ4",
        "cellView": "form"
      },
      "outputs": [],
      "source": [
        "#@title Localmente\n",
        "\n",
        "total = len(os.listdir(route))\n",
        "if total > 1:\n",
        "  print(f\"Has descargado un total de {total} vídeos\")\n",
        "  print(\"¿Seguro que quieres descargar todos de golpe?\")\n",
        "else:\n",
        "  print(\"¿Quieres descargar tu vídeo?\")\n",
        "\n",
        "confirm = input(\"[s/n]: \")\n",
        "\n",
        "if confirm == \"s\":\n",
        "  if mult == \"2\" or \"3\":\n",
        "    for i in os.listdir(route):\n",
        "      files.download('/content/Descargados/'+i)\n",
        "  else:\n",
        "    files.download(f\"{route}/{title}.{format2}\")\n",
        "else:\n",
        "  print(\"Entonces nada XD\")"
      ]
    }
  ],
  "metadata": {
    "colab": {
      "provenance": []
    },
    "kernelspec": {
      "display_name": "Python 3",
      "name": "python3"
    },
    "language_info": {
      "name": "python"
    }
  },
  "nbformat": 4,
  "nbformat_minor": 0
}